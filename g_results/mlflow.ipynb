{
 "cells": [
  {
   "cell_type": "code",
   "execution_count": 10,
   "id": "f1e69b8f",
   "metadata": {},
   "outputs": [],
   "source": [
    "import mlflow\n",
    "\n",
    "# Set the tracking URI\n",
    "mlflow.set_tracking_uri(\"http://127.0.0.1:5000\") \n",
    "\n",
    "# Model configurations with names\n",
    "models = [\n",
    "    {\"name\": \"v1\", \"layers\": 2, \"attn_heads\": 0, \"use_attention\": False, \"mse\": 51.2473, \"mae\": 3.3974, \"r2\": 0.9674, \"inference_time\": 4.1070},\n",
    "    {\"name\": \"v5\", \"layers\": 3, \"attn_heads\": 0, \"use_attention\": False, \"mse\": 21.8349, \"mae\": 2.1158, \"r2\": 0.9861, \"inference_time\": 5.1709},\n",
    "    {\"name\": \"v2\", \"layers\": 2, \"attn_heads\": 1, \"use_attention\": True, \"mse\": 49.4238, \"mae\": 4.2345, \"r2\": 0.9686, \"inference_time\": 5.9869},\n",
    "    {\"name\": \"v3\", \"layers\": 3, \"attn_heads\": 2, \"use_attention\": True, \"mse\": 46.6205, \"mae\": 4.1679, \"r2\": 0.9704, \"inference_time\": 5.8907},\n",
    "    {\"name\": \"v6\", \"layers\": 3, \"attn_heads\": 1, \"use_attention\": True, \"mse\": 34.3177, \"mae\": 2.9317, \"r2\": 0.9782, \"inference_time\": 8.4229},\n",
    "    {\"name\": \"v7\", \"layers\": 3, \"attn_heads\": 2, \"use_attention\": True, \"mse\": 33.1079, \"mae\": 3.1288, \"r2\": 0.9789, \"inference_time\": 8.2251},\n",
    "    {\"name\": \"v4\", \"layers\": 2, \"attn_heads\": 4, \"use_attention\": True, \"mse\": 27.6129, \"mae\": 3.0149, \"r2\": 0.9824, \"inference_time\": 6.4824},\n",
    "    {\"name\": \"v8\", \"layers\": 3, \"attn_heads\": 4, \"use_attention\": True, \"mse\": 14.0975, \"mae\": 2.0761, \"r2\": 0.9910, \"inference_time\": 9.7189}\n",
    "]\n",
    "\n",
    "# Logging parameters and metrics with names\n",
    "for model in models:\n",
    "    with mlflow.start_run():\n",
    "        mlflow.log_param(\"Model Name\", model[\"name\"])\n",
    "        mlflow.log_param(\"layers\", model[\"layers\"])\n",
    "        mlflow.log_param(\"attn_heads\", model[\"attn_heads\"])\n",
    "        mlflow.log_param(\"use_attention\", model[\"use_attention\"])\n",
    "\n",
    "        mlflow.log_metric(\"MSE\", model[\"mse\"])\n",
    "        mlflow.log_metric(\"MAE\", model[\"mae\"])\n",
    "        mlflow.log_metric(\"R2\", model[\"r2\"])\n",
    "        mlflow.log_metric(\"Inference Time per 1000 samples\", model[\"inference_time\"])"
   ]
  }
 ],
 "metadata": {
  "kernelspec": {
   "display_name": "Python 3",
   "language": "python",
   "name": "python3"
  },
  "language_info": {
   "codemirror_mode": {
    "name": "ipython",
    "version": 3
   },
   "file_extension": ".py",
   "mimetype": "text/x-python",
   "name": "python",
   "nbconvert_exporter": "python",
   "pygments_lexer": "ipython3",
   "version": "3.9.7"
  }
 },
 "nbformat": 4,
 "nbformat_minor": 5
}
